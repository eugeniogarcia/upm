{
 "cells": [
  {
   "cell_type": "markdown",
   "metadata": {},
   "source": [
    "## Conversion Bitcoin"
   ]
  },
  {
   "cell_type": "code",
   "execution_count": 23,
   "metadata": {},
   "outputs": [],
   "source": [
    "EURO_BITCOIN_RATE = 44471.78"
   ]
  },
  {
   "cell_type": "code",
   "execution_count": 24,
   "metadata": {},
   "outputs": [],
   "source": [
    "def euros_a_bitcoins(euros: int | float)->float:\n",
    "  '''Convierte una cantidad de euros a bitcoins. 1 bitcoin = 44570.17 €'''\n",
    "  #return round(euros / EURO_BITCOIN_RATE, 2)\n",
    "  return euros / EURO_BITCOIN_RATE\n"
   ]
  },
  {
   "cell_type": "code",
   "execution_count": 25,
   "metadata": {},
   "outputs": [],
   "source": [
    "valor=euros_a_bitcoins(100)"
   ]
  },
  {
   "cell_type": "code",
   "execution_count": 26,
   "metadata": {},
   "outputs": [],
   "source": [
    "\n",
    "def bitcoins_a_euros(bitcoin: int | float) -> float:\n",
    "  '''Convierte una cantidad de bitcoins a euros. 1 bitcoin = 44570.17 €'''\n",
    "  return round(bitcoin * EURO_BITCOIN_RATE, 2)"
   ]
  },
  {
   "cell_type": "code",
   "execution_count": 27,
   "metadata": {},
   "outputs": [
    {
     "data": {
      "text/plain": [
       "100.0"
      ]
     },
     "execution_count": 27,
     "metadata": {},
     "output_type": "execute_result"
    }
   ],
   "source": [
    "bitcoins_a_euros(valor)"
   ]
  },
  {
   "cell_type": "markdown",
   "metadata": {},
   "source": [
    "## Contar volcales"
   ]
  },
  {
   "cell_type": "code",
   "execution_count": 28,
   "metadata": {},
   "outputs": [],
   "source": [
    "def contar_vocales(texto: str)->int:\n",
    "  '''Devuelve el número de vocales que tiene el texto dado.'''\n",
    "  vocales = 0\n",
    "  for x in texto.lower():\n",
    "    if x in (\"a\", \"e\", \"i\", \"o\", \"u\"):\n",
    "      vocales = vocales + 1\n",
    "  return vocales"
   ]
  },
  {
   "cell_type": "code",
   "execution_count": 29,
   "metadata": {},
   "outputs": [
    {
     "data": {
      "text/plain": [
       "6"
      ]
     },
     "execution_count": 29,
     "metadata": {},
     "output_type": "execute_result"
    }
   ],
   "source": [
    "contar_vocales('texto de ejemplo')"
   ]
  },
  {
   "cell_type": "code",
   "execution_count": 30,
   "metadata": {},
   "outputs": [
    {
     "data": {
      "text/plain": [
       "5"
      ]
     },
     "execution_count": 30,
     "metadata": {},
     "output_type": "execute_result"
    }
   ],
   "source": [
    "contar_vocales('CINCO vocales')"
   ]
  },
  {
   "cell_type": "code",
   "execution_count": 31,
   "metadata": {},
   "outputs": [
    {
     "data": {
      "text/plain": [
       "1"
      ]
     },
     "execution_count": 31,
     "metadata": {},
     "output_type": "execute_result"
    }
   ],
   "source": [
    "contar_vocales('pan')"
   ]
  },
  {
   "cell_type": "markdown",
   "metadata": {},
   "source": [
    "## Palindromo"
   ]
  },
  {
   "cell_type": "code",
   "execution_count": 32,
   "metadata": {},
   "outputs": [],
   "source": [
    "def es_palindromo(texto: str)->bool:\n",
    "  '''Detecta si un texto es palíndromo o no'''\n",
    "  texto=texto.replace (\" \", \"\").lower()\n",
    "  return texto == texto [::-1] # fijate en el == "
   ]
  },
  {
   "cell_type": "code",
   "execution_count": 33,
   "metadata": {},
   "outputs": [
    {
     "data": {
      "text/plain": [
       "True"
      ]
     },
     "execution_count": 33,
     "metadata": {},
     "output_type": "execute_result"
    }
   ],
   "source": [
    "es_palindromo('Roma ni se conoce sin oro ni se conoce sin amor')"
   ]
  },
  {
   "cell_type": "markdown",
   "metadata": {},
   "source": [
    "siguientes"
   ]
  },
  {
   "cell_type": "code",
   "execution_count": 34,
   "metadata": {},
   "outputs": [],
   "source": [
    "def max_temperaturas (temperaturas: list[float], umbral: float) -> list[float]:\n",
    "  '''Detecta qué mediciones de temperatura han superado el umbral dado'''\n",
    "  maximos = []\n",
    "  for x in temperaturas:\n",
    "    if x > umbral:\n",
    "      maximos.append(x)\n",
    "  return maximos"
   ]
  },
  {
   "cell_type": "code",
   "execution_count": 35,
   "metadata": {},
   "outputs": [
    {
     "data": {
      "text/plain": [
       "[45.0, 59.3]"
      ]
     },
     "execution_count": 35,
     "metadata": {},
     "output_type": "execute_result"
    }
   ],
   "source": [
    "max_temperaturas([23.2, 25.3, 45.0, 18.0, 59.3], 30.0)"
   ]
  },
  {
   "cell_type": "markdown",
   "metadata": {},
   "source": [
    "siguientes"
   ]
  },
  {
   "cell_type": "code",
   "execution_count": 36,
   "metadata": {},
   "outputs": [],
   "source": [
    "productos: list[str] = []\n",
    "\n",
    "def insertar(producto: str) -> None:   \n",
    "  '''Añade un producto a la lista'''\n",
    "  productos.append(producto)\n",
    "\n",
    "def borrar(numero: int) -> None:      \n",
    "  '''Borra el producto en el índice dado de lista de productos.'''\n",
    "  del productos [numero]\n",
    "\n",
    "def mostrar_productos() -> None:    \n",
    "  '''Muestra la lista de productos con sus índices.'''\n",
    "  for x in productos:\n",
    "    indice = productos.index(x)\n",
    "    print(f\"{indice}: {x}\")\n",
    "\n",
    "def cantidad() -> int:   \n",
    "  '''Devuelve el número de productos.'''\n",
    "  \n",
    "  return len(productos)\n"
   ]
  },
  {
   "cell_type": "code",
   "execution_count": 37,
   "metadata": {},
   "outputs": [
    {
     "data": {
      "text/plain": [
       "['clara', 'nico', 'leah', 'eugenio']"
      ]
     },
     "execution_count": 37,
     "metadata": {},
     "output_type": "execute_result"
    }
   ],
   "source": [
    "insertar(\"clara\")\n",
    "insertar(\"nico\")\n",
    "insertar(\"leah\")\n",
    "insertar(\"eugenio\")\n",
    "productos"
   ]
  },
  {
   "cell_type": "code",
   "execution_count": 38,
   "metadata": {},
   "outputs": [
    {
     "name": "stdout",
     "output_type": "stream",
     "text": [
      "0: clara\n",
      "1: nico\n",
      "2: leah\n",
      "3: eugenio\n"
     ]
    }
   ],
   "source": [
    "mostrar_productos()"
   ]
  },
  {
   "cell_type": "code",
   "execution_count": 39,
   "metadata": {},
   "outputs": [],
   "source": [
    "productos=[]\n",
    "mostrar_productos()"
   ]
  },
  {
   "cell_type": "code",
   "execution_count": 40,
   "metadata": {},
   "outputs": [],
   "source": [
    "def mostrar_productos() -> None:    \n",
    "    '''Muestra la lista de productos con sus índices.'''\n",
    "    indice=-1\n",
    "    for x in productos:\n",
    "        indice = productos.index(x)\n",
    "        print(f\"{indice}: {x}\")\n",
    "    else:\n",
    "        print(\"no hay\")"
   ]
  },
  {
   "cell_type": "code",
   "execution_count": 41,
   "metadata": {},
   "outputs": [],
   "source": [
    "def mostrar_productos() -> None:    \n",
    "  '''Muestra la lista de productos con sus índices.'''\n",
    "  indice=-1\n",
    "  for indice,x in enumerate(productos):\n",
    "    print(f\"{indice}: {x}\")\n",
    "  if indice==-1:\n",
    "    print(\"no hay\")"
   ]
  },
  {
   "cell_type": "code",
   "execution_count": 42,
   "metadata": {},
   "outputs": [
    {
     "name": "stdout",
     "output_type": "stream",
     "text": [
      "no hay\n"
     ]
    }
   ],
   "source": [
    "mostrar_productos()"
   ]
  },
  {
   "cell_type": "code",
   "execution_count": 43,
   "metadata": {},
   "outputs": [
    {
     "data": {
      "text/plain": [
       "0"
      ]
     },
     "execution_count": 43,
     "metadata": {},
     "output_type": "execute_result"
    }
   ],
   "source": [
    "cantidad()"
   ]
  },
  {
   "cell_type": "code",
   "execution_count": 44,
   "metadata": {},
   "outputs": [
    {
     "ename": "IndexError",
     "evalue": "list assignment index out of range",
     "output_type": "error",
     "traceback": [
      "\u001b[0;31m---------------------------------------------------------------------------\u001b[0m",
      "\u001b[0;31mIndexError\u001b[0m                                Traceback (most recent call last)",
      "Cell \u001b[0;32mIn[44], line 1\u001b[0m\n\u001b[0;32m----> 1\u001b[0m \u001b[43mborrar\u001b[49m\u001b[43m(\u001b[49m\u001b[38;5;241;43m0\u001b[39;49m\u001b[43m)\u001b[49m\n",
      "Cell \u001b[0;32mIn[36], line 9\u001b[0m, in \u001b[0;36mborrar\u001b[0;34m(numero)\u001b[0m\n\u001b[1;32m      7\u001b[0m \u001b[38;5;28;01mdef\u001b[39;00m \u001b[38;5;21mborrar\u001b[39m(numero: \u001b[38;5;28mint\u001b[39m) \u001b[38;5;241m-\u001b[39m\u001b[38;5;241m>\u001b[39m \u001b[38;5;28;01mNone\u001b[39;00m:      \n\u001b[1;32m      8\u001b[0m \u001b[38;5;250m  \u001b[39m\u001b[38;5;124;03m'''Borra el producto en el índice dado de lista de productos.'''\u001b[39;00m\n\u001b[0;32m----> 9\u001b[0m   \u001b[38;5;28;01mdel\u001b[39;00m \u001b[43mproductos\u001b[49m\u001b[43m \u001b[49m\u001b[43m[\u001b[49m\u001b[43mnumero\u001b[49m\u001b[43m]\u001b[49m\n",
      "\u001b[0;31mIndexError\u001b[0m: list assignment index out of range"
     ]
    }
   ],
   "source": [
    "borrar(0)"
   ]
  },
  {
   "cell_type": "code",
   "execution_count": null,
   "metadata": {},
   "outputs": [
    {
     "data": {
      "text/plain": [
       "3"
      ]
     },
     "execution_count": 36,
     "metadata": {},
     "output_type": "execute_result"
    }
   ],
   "source": [
    "cantidad()"
   ]
  },
  {
   "cell_type": "markdown",
   "metadata": {},
   "source": [
    "## Ejercicio opcional de cifrado\n",
    "\n",
    "Ejercicio opcional de cifrado"
   ]
  },
  {
   "cell_type": "code",
   "execution_count": 45,
   "metadata": {},
   "outputs": [],
   "source": [
    "#El alfabeto que vamos a usar\n",
    "ALFABETO=\"ABCDEFGHIJKLMNÑOPQRSTUVWXYZÁÉÍÓÚ\"\n",
    "\n",
    "\n",
    "def desplaza(c:str,desplazamiento)->str:\n",
    "    \"\"\"obtener el caracter equivalente con un desplazamiento dado\"\"\"\n",
    "    largo=len(ALFABETO) #tamaño del alfabeto\n",
    "    desplazamiento=desplazamiento%largo #acotar el desplazamiento entre 0 y lardo-1\n",
    "    \n",
    "    try:\n",
    "        pos=ALFABETO.index(c.upper()) #busca el caracter en el alfabeto...\n",
    "    except:\n",
    "        return c #... y sino lo encuentra la devuelve tal cual\n",
    "    \n",
    "    i=pos+desplazamiento # calculamos que caracter es el desplazado...\n",
    "\n",
    "    if i<0: #y si nos \"salimos\" de 0 a largo -1, lo compensamos\n",
    "        i=largo+i\n",
    "    if i>=largo:\n",
    "        i=i-largo\n",
    "\n",
    "    return ALFABETO[i] #devuelve el caracter"
   ]
  },
  {
   "cell_type": "code",
   "execution_count": 46,
   "metadata": {},
   "outputs": [
    {
     "data": {
      "text/plain": [
       "'1'"
      ]
     },
     "execution_count": 46,
     "metadata": {},
     "output_type": "execute_result"
    }
   ],
   "source": [
    "desplaza('1',0)"
   ]
  },
  {
   "cell_type": "code",
   "execution_count": 47,
   "metadata": {},
   "outputs": [
    {
     "name": "stdout",
     "output_type": "stream",
     "text": [
      "K\n",
      "J\n",
      "I\n",
      "H\n",
      "G\n",
      "F\n",
      "E\n",
      "D\n",
      "C\n",
      "B\n",
      "A\n",
      "Ú\n",
      "Ó\n",
      "Í\n",
      "É\n"
     ]
    }
   ],
   "source": [
    "for x in range(15):\n",
    "    print(desplaza('a',-x+10))"
   ]
  },
  {
   "cell_type": "code",
   "execution_count": 48,
   "metadata": {},
   "outputs": [],
   "source": [
    "\n",
    "def cifrar(texto: str, desplazamiento: int) -> str:\n",
    "  '''\n",
    "  Transforma un texto dado usando cifrado César con un desplazamiento dado.\n",
    "\n",
    "  Utiliza esta lista de caracteres: ABCDEFGHIJKLMNÑOPQRSTUVWXYZÁÉÍÓÚ\n",
    "  \n",
    "  Si un caracter no se encuentra en la lista, se deja intacto.\n",
    "  '''\n",
    "  resp=\"\"\n",
    "  for x in texto:\n",
    "    resp+=desplaza(x,desplazamiento)\n",
    "  return resp\n",
    "\n",
    "def descifrar(cifrado: str, desplazamiento: int) -> str:\n",
    "  '''\n",
    "  Aplicada a un texto cifrado con el mismo desplazamiento,\n",
    "  devuelve el texto original.\n",
    "  '''\n",
    "  return cifrar(cifrado,-desplazamiento)"
   ]
  },
  {
   "cell_type": "code",
   "execution_count": 49,
   "metadata": {},
   "outputs": [
    {
     "data": {
      "text/plain": [
       "'HOLA MUNDO'"
      ]
     },
     "execution_count": 49,
     "metadata": {},
     "output_type": "execute_result"
    }
   ],
   "source": [
    "cifrar('hola mundo',0)"
   ]
  },
  {
   "cell_type": "code",
   "execution_count": 50,
   "metadata": {},
   "outputs": [
    {
     "data": {
      "text/plain": [
       "'HOLA MUNDO'"
      ]
     },
     "execution_count": 50,
     "metadata": {},
     "output_type": "execute_result"
    }
   ],
   "source": [
    "descifrar('HOLA MUNDO',0)"
   ]
  },
  {
   "cell_type": "code",
   "execution_count": 51,
   "metadata": {},
   "outputs": [
    {
     "data": {
      "text/plain": [
       "'ÁDÚT AJBWD'"
      ]
     },
     "execution_count": 51,
     "metadata": {},
     "output_type": "execute_result"
    }
   ],
   "source": [
    "cifrar('hola mundo',20)"
   ]
  },
  {
   "cell_type": "code",
   "execution_count": 52,
   "metadata": {},
   "outputs": [
    {
     "data": {
      "text/plain": [
       "'UÍYÑ ZDÁQÍ'"
      ]
     },
     "execution_count": 52,
     "metadata": {},
     "output_type": "execute_result"
    }
   ],
   "source": [
    "descifrar('JQNC ÑWOFQ',20)"
   ]
  },
  {
   "cell_type": "markdown",
   "metadata": {},
   "source": [
    "## Ejemplo de uso de Else en un loop\n",
    "\n",
    "El else en el loop de tipo for, solo se ejecuta cuando salimos del for con un break"
   ]
  },
  {
   "cell_type": "code",
   "execution_count": 53,
   "metadata": {},
   "outputs": [
    {
     "name": "stdout",
     "output_type": "stream",
     "text": [
      "No encontré ningún número par\n"
     ]
    }
   ],
   "source": [
    "# Ejemplo 1: Buscando un número par\n",
    "for num in [1, 3, 5, 7, 9]:\n",
    "    if num % 2 == 0:\n",
    "        print(f\"Encontré un número par: {num}\")\n",
    "        break\n",
    "else:\n",
    "    print(\"No encontré ningún número par\")  # Este se ejecutará\n",
    "\n",
    "# Ejemplo 2: Verificando si un número es primo\n",
    "def es_primo(n):\n",
    "    for i in range(2, int(n ** 0.5) + 1):\n",
    "        if n % i == 0:\n",
    "            return False\n",
    "    else:\n",
    "        return True  # Se ejecuta si no se encontraron divisores"
   ]
  },
  {
   "cell_type": "code",
   "execution_count": 54,
   "metadata": {},
   "outputs": [],
   "source": [
    "def prueba(valores=[1, 3, 5, 7, 9]):\n",
    "    # Ejemplo 1: Buscando un número par\n",
    "    for num in valores:\n",
    "        if num % 2 == 0:\n",
    "            print(f\"Encontré un número par: {num}\")\n",
    "            break\n",
    "    else:\n",
    "        print(\"No encontré ningún número par\")  # Este se ejecutará"
   ]
  },
  {
   "cell_type": "code",
   "execution_count": 55,
   "metadata": {},
   "outputs": [
    {
     "name": "stdout",
     "output_type": "stream",
     "text": [
      "Encontré un número par: 2\n"
     ]
    }
   ],
   "source": [
    "prueba([3,7,2,9])"
   ]
  },
  {
   "cell_type": "code",
   "execution_count": 56,
   "metadata": {},
   "outputs": [
    {
     "name": "stdout",
     "output_type": "stream",
     "text": [
      "No encontré ningún número par\n"
     ]
    }
   ],
   "source": [
    "prueba([3,7,9])"
   ]
  }
 ],
 "metadata": {
  "kernelspec": {
   "display_name": "base",
   "language": "python",
   "name": "python3"
  },
  "language_info": {
   "codemirror_mode": {
    "name": "ipython",
    "version": 3
   },
   "file_extension": ".py",
   "mimetype": "text/x-python",
   "name": "python",
   "nbconvert_exporter": "python",
   "pygments_lexer": "ipython3",
   "version": "3.12.2"
  }
 },
 "nbformat": 4,
 "nbformat_minor": 2
}
