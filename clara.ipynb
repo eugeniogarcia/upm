{
 "cells": [
  {
   "cell_type": "code",
   "execution_count": 9,
   "metadata": {},
   "outputs": [],
   "source": [
    "EURO_BITCOIN_RATE = 44471.78"
   ]
  },
  {
   "cell_type": "code",
   "execution_count": 17,
   "metadata": {},
   "outputs": [],
   "source": [
    "def euros_a_bitcoins(euros: int | float)->float:\n",
    "  '''Convierte una cantidad de euros a bitcoins. 1 bitcoin = 44570.17 €'''\n",
    "  #return round(euros / EURO_BITCOIN_RATE, 2)\n",
    "  return euros / EURO_BITCOIN_RATE\n"
   ]
  },
  {
   "cell_type": "code",
   "execution_count": 18,
   "metadata": {},
   "outputs": [],
   "source": [
    "valor=euros_a_bitcoins(100)"
   ]
  },
  {
   "cell_type": "code",
   "execution_count": 19,
   "metadata": {},
   "outputs": [],
   "source": [
    "\n",
    "def bitcoins_a_euros(bitcoin: int | float) -> float:\n",
    "  '''Convierte una cantidad de bitcoins a euros. 1 bitcoin = 44570.17 €'''\n",
    "  return round(bitcoin * EURO_BITCOIN_RATE, 2)"
   ]
  },
  {
   "cell_type": "code",
   "execution_count": 20,
   "metadata": {},
   "outputs": [
    {
     "data": {
      "text/plain": [
       "100.0"
      ]
     },
     "execution_count": 20,
     "metadata": {},
     "output_type": "execute_result"
    }
   ],
   "source": [
    "bitcoins_a_euros(valor)"
   ]
  },
  {
   "cell_type": "markdown",
   "metadata": {},
   "source": [
    "Siguiente"
   ]
  },
  {
   "cell_type": "code",
   "execution_count": 27,
   "metadata": {},
   "outputs": [],
   "source": [
    "def contar_vocales(texto: str)->int:\n",
    "  '''Devuelve el número de vocales que tiene el texto dado.'''\n",
    "  vocales = 0\n",
    "  texto=texto.lower()\n",
    "  for x in texto:\n",
    "    if x in (\"a\", \"e\", \"i\", \"o\", \"u\"):\n",
    "      vocales = vocales + 1\n",
    "  return vocales"
   ]
  },
  {
   "cell_type": "code",
   "execution_count": 29,
   "metadata": {},
   "outputs": [
    {
     "data": {
      "text/plain": [
       "6"
      ]
     },
     "execution_count": 29,
     "metadata": {},
     "output_type": "execute_result"
    }
   ],
   "source": [
    "contar_vocales('texto de ejemplo')"
   ]
  },
  {
   "cell_type": "code",
   "execution_count": 30,
   "metadata": {},
   "outputs": [
    {
     "data": {
      "text/plain": [
       "5"
      ]
     },
     "execution_count": 30,
     "metadata": {},
     "output_type": "execute_result"
    }
   ],
   "source": [
    "contar_vocales('CINCO vocales')"
   ]
  },
  {
   "cell_type": "code",
   "execution_count": 31,
   "metadata": {},
   "outputs": [
    {
     "data": {
      "text/plain": [
       "1"
      ]
     },
     "execution_count": 31,
     "metadata": {},
     "output_type": "execute_result"
    }
   ],
   "source": [
    "contar_vocales('pan')"
   ]
  },
  {
   "cell_type": "markdown",
   "metadata": {},
   "source": [
    "siguiente"
   ]
  },
  {
   "cell_type": "code",
   "execution_count": 42,
   "metadata": {},
   "outputs": [],
   "source": [
    "def es_palindromo(texto: str)->bool:\n",
    "  '''Detecta si un texto es palíndromo o no'''\n",
    "  texto=texto.replace (\" \", \"\").lower()\n",
    "  return texto == texto [::-1]"
   ]
  },
  {
   "cell_type": "code",
   "execution_count": 43,
   "metadata": {},
   "outputs": [
    {
     "data": {
      "text/plain": [
       "True"
      ]
     },
     "execution_count": 43,
     "metadata": {},
     "output_type": "execute_result"
    }
   ],
   "source": [
    "es_palindromo('Roma ni se conoce sin oro ni se conoce sin amor')"
   ]
  },
  {
   "cell_type": "markdown",
   "metadata": {},
   "source": [
    "siguientes"
   ]
  },
  {
   "cell_type": "code",
   "execution_count": 46,
   "metadata": {},
   "outputs": [],
   "source": [
    "def max_temperaturas (temperaturas: list[float], umbral: float) -> list[float]:\n",
    "  '''Detecta qué mediciones de temperatura han superado el umbral dado'''\n",
    "  maximos = []\n",
    "  for x in temperaturas:\n",
    "    if x > umbral:\n",
    "      maximos.append(x)\n",
    "  return maximos"
   ]
  },
  {
   "cell_type": "code",
   "execution_count": 47,
   "metadata": {},
   "outputs": [
    {
     "data": {
      "text/plain": [
       "[45.0, 59.3]"
      ]
     },
     "execution_count": 47,
     "metadata": {},
     "output_type": "execute_result"
    }
   ],
   "source": [
    "max_temperaturas([23.2, 25.3, 45.0, 18.0, 59.3], 30.0)"
   ]
  },
  {
   "cell_type": "markdown",
   "metadata": {},
   "source": [
    "siguientes"
   ]
  },
  {
   "cell_type": "code",
   "execution_count": 23,
   "metadata": {},
   "outputs": [],
   "source": [
    "productos: list[str] = []\n",
    "\n",
    "def insertar(producto: str) -> None:   \n",
    "  '''Añade un producto a la lista'''\n",
    "  productos.append(producto)\n",
    "\n",
    "def borrar(numero: int) -> None:      \n",
    "  '''Borra el producto en el índice dado de lista de productos.'''\n",
    "  del productos [numero]\n",
    "\n",
    "def mostrar_productos() -> None:    \n",
    "  '''Muestra la lista de productos con sus índices.'''\n",
    "  for x in productos:\n",
    "    indice = productos.index(x)\n",
    "    print(f\"{indice}: {x}\")\n",
    "\n",
    "def cantidad() -> int:   \n",
    "  '''Devuelve el número de productos.'''\n",
    "  return len(productos)\n"
   ]
  },
  {
   "cell_type": "code",
   "execution_count": 30,
   "metadata": {},
   "outputs": [
    {
     "data": {
      "text/plain": [
       "['clara', 'nico', 'leah', 'eugenio']"
      ]
     },
     "execution_count": 30,
     "metadata": {},
     "output_type": "execute_result"
    }
   ],
   "source": [
    "insertar(\"clara\")\n",
    "insertar(\"nico\")\n",
    "insertar(\"leah\")\n",
    "insertar(\"eugenio\")\n",
    "productos"
   ]
  },
  {
   "cell_type": "code",
   "execution_count": 15,
   "metadata": {},
   "outputs": [],
   "source": [
    "mostrar_productos()"
   ]
  },
  {
   "cell_type": "code",
   "execution_count": 28,
   "metadata": {},
   "outputs": [],
   "source": [
    "def mostrar_productos() -> None:    \n",
    "  '''Muestra la lista de productos con sus índices.'''\n",
    "  indice=-1\n",
    "  for indice,x in enumerate(productos):\n",
    "    print(f\"{indice}: {x}\")\n",
    "  if indice==-1:\n",
    "    print(\"no hay\")"
   ]
  },
  {
   "cell_type": "code",
   "execution_count": 35,
   "metadata": {},
   "outputs": [
    {
     "name": "stdout",
     "output_type": "stream",
     "text": [
      "0: nico\n",
      "1: leah\n",
      "2: eugenio\n"
     ]
    }
   ],
   "source": [
    "mostrar_productos()"
   ]
  },
  {
   "cell_type": "code",
   "execution_count": 34,
   "metadata": {},
   "outputs": [
    {
     "data": {
      "text/plain": [
       "3"
      ]
     },
     "execution_count": 34,
     "metadata": {},
     "output_type": "execute_result"
    }
   ],
   "source": [
    "cantidad()"
   ]
  },
  {
   "cell_type": "code",
   "execution_count": 33,
   "metadata": {},
   "outputs": [],
   "source": [
    "borrar(0)"
   ]
  },
  {
   "cell_type": "code",
   "execution_count": 36,
   "metadata": {},
   "outputs": [
    {
     "data": {
      "text/plain": [
       "3"
      ]
     },
     "execution_count": 36,
     "metadata": {},
     "output_type": "execute_result"
    }
   ],
   "source": [
    "cantidad()"
   ]
  },
  {
   "cell_type": "markdown",
   "metadata": {},
   "source": [
    "siguiente"
   ]
  },
  {
   "cell_type": "code",
   "execution_count": 95,
   "metadata": {},
   "outputs": [],
   "source": [
    "ALFABETO=\"ABCDEFGHIJKLMNÑOPQRSTUVWXYZÁÉÍÓÚ\"\n",
    "\n",
    "\n",
    "def desplaza(c:str,desplazamiento)->str:\n",
    "    largo=len(ALFABETO)\n",
    "    desplazamiento=desplazamiento%largo\n",
    "    \n",
    "    try:\n",
    "        pos=ALFABETO.index(c.upper())\n",
    "    except:\n",
    "        return c\n",
    "    i=pos+desplazamiento\n",
    "\n",
    "    if i<0:\n",
    "        i=largo+i\n",
    "    if i>=largo:\n",
    "        i=i-largo\n",
    "\n",
    "    return ALFABETO[i]\n"
   ]
  },
  {
   "cell_type": "code",
   "execution_count": 96,
   "metadata": {},
   "outputs": [
    {
     "data": {
      "text/plain": [
       "'1'"
      ]
     },
     "execution_count": 96,
     "metadata": {},
     "output_type": "execute_result"
    }
   ],
   "source": [
    "desplaza('1',0)"
   ]
  },
  {
   "cell_type": "code",
   "execution_count": 97,
   "metadata": {},
   "outputs": [
    {
     "name": "stdout",
     "output_type": "stream",
     "text": [
      "K\n",
      "J\n",
      "I\n",
      "H\n",
      "G\n",
      "F\n",
      "E\n",
      "D\n",
      "C\n",
      "B\n",
      "A\n",
      "Ú\n",
      "Ó\n",
      "Í\n",
      "É\n",
      "Á\n",
      "Z\n",
      "Y\n",
      "X\n",
      "W\n",
      "V\n",
      "U\n",
      "T\n",
      "S\n",
      "R\n",
      "Q\n",
      "P\n",
      "O\n",
      "Ñ\n",
      "N\n",
      "M\n",
      "L\n",
      "K\n",
      "J\n",
      "I\n",
      "H\n",
      "G\n",
      "F\n",
      "E\n",
      "D\n"
     ]
    }
   ],
   "source": [
    "for x in range(40):\n",
    "    print(desplaza('a',-x+10))"
   ]
  },
  {
   "cell_type": "code",
   "execution_count": 98,
   "metadata": {},
   "outputs": [],
   "source": [
    "\n",
    "def cifrar(texto: str, desplazamiento: int) -> str:\n",
    "  '''\n",
    "  Transforma un texto dado usando cifrado César con un desplazamiento dado.\n",
    "\n",
    "  Utiliza esta lista de caracteres: ABCDEFGHIJKLMNÑOPQRSTUVWXYZÁÉÍÓÚ\n",
    "  \n",
    "  Si un caracter no se encuentra en la lista, se deja intacto.\n",
    "  '''\n",
    "  resp=\"\"\n",
    "  for x in texto:\n",
    "    resp+=desplaza(x,desplazamiento)\n",
    "  return resp\n",
    "\n",
    "def descifrar(cifrado: str, desplazamiento: int) -> str:\n",
    "  '''\n",
    "  Aplicada a un texto cifrado con el mismo desplazamiento,\n",
    "  devuelve el texto original.\n",
    "  '''\n",
    "  return cifrar(cifrado,-desplazamiento)"
   ]
  },
  {
   "cell_type": "code",
   "execution_count": 99,
   "metadata": {},
   "outputs": [
    {
     "data": {
      "text/plain": [
       "'HOLA MUNDO'"
      ]
     },
     "execution_count": 99,
     "metadata": {},
     "output_type": "execute_result"
    }
   ],
   "source": [
    "cifrar('hola mundo',0)"
   ]
  },
  {
   "cell_type": "code",
   "execution_count": 100,
   "metadata": {},
   "outputs": [
    {
     "data": {
      "text/plain": [
       "'HOLA MUNDO'"
      ]
     },
     "execution_count": 100,
     "metadata": {},
     "output_type": "execute_result"
    }
   ],
   "source": [
    "descifrar('HOLA MUNDO',0)"
   ]
  },
  {
   "cell_type": "code",
   "execution_count": 103,
   "metadata": {},
   "outputs": [
    {
     "data": {
      "text/plain": [
       "'ÁDÚT AJBWD'"
      ]
     },
     "execution_count": 103,
     "metadata": {},
     "output_type": "execute_result"
    }
   ],
   "source": [
    "cifrar('hola mundo',20)"
   ]
  },
  {
   "cell_type": "code",
   "execution_count": 104,
   "metadata": {},
   "outputs": [
    {
     "data": {
      "text/plain": [
       "'UÍYÑ ZDÁQÍ'"
      ]
     },
     "execution_count": 104,
     "metadata": {},
     "output_type": "execute_result"
    }
   ],
   "source": [
    "descifrar('JQNC ÑWOFQ',20)"
   ]
  },
  {
   "cell_type": "markdown",
   "metadata": {},
   "source": [
    "siguiente"
   ]
  }
 ],
 "metadata": {
  "kernelspec": {
   "display_name": "base",
   "language": "python",
   "name": "python3"
  },
  "language_info": {
   "codemirror_mode": {
    "name": "ipython",
    "version": 3
   },
   "file_extension": ".py",
   "mimetype": "text/x-python",
   "name": "python",
   "nbconvert_exporter": "python",
   "pygments_lexer": "ipython3",
   "version": "3.12.4"
  }
 },
 "nbformat": 4,
 "nbformat_minor": 2
}
