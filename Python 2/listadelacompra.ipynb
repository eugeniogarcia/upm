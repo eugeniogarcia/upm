{
 "cells": [
  {
   "cell_type": "code",
   "execution_count": 3,
   "metadata": {},
   "outputs": [],
   "source": [
    "productos = []"
   ]
  },
  {
   "cell_type": "code",
   "execution_count": 8,
   "metadata": {},
   "outputs": [],
   "source": [
    "def insertar(nombre: str, precio: float | int, categoria: str, etiquetas: tuple[str]=(), prioridad: int=3)->None:\n",
    "    '''Añade un producto nuevo a la lista con los parámetros dados'''\n",
    "    producto = {\n",
    "        \"nombre\": nombre,\n",
    "        \"precio\": precio,\n",
    "        \"categoría\": categoria,\n",
    "        \"etiquetas\": etiquetas,\n",
    "        \"prioridad\": prioridad,\n",
    "        \"comprado\": False\n",
    "    }\n",
    "    productos.append(producto)"
   ]
  },
  {
   "cell_type": "code",
   "execution_count": 9,
   "metadata": {},
   "outputs": [],
   "source": [
    "insertar('Garganzos', 0.68, 'Alimentación', ('cocido', 'humus'), 3)\n",
    "insertar('Hierbabuena', 1.5, 'Alimentación', ('coctainls'), 1)"
   ]
  },
  {
   "cell_type": "code",
   "execution_count": 10,
   "metadata": {},
   "outputs": [
    {
     "data": {
      "text/plain": [
       "{'nombre': 'Garganzos',\n",
       " 'precio': 0.68,\n",
       " 'categoría': 'Alimentación',\n",
       " 'etiquetas': ('cocido', 'humus'),\n",
       " 'prioridad': 3,\n",
       " 'comprado': False}"
      ]
     },
     "execution_count": 10,
     "metadata": {},
     "output_type": "execute_result"
    }
   ],
   "source": [
    "productos[0]"
   ]
  },
  {
   "cell_type": "code",
   "execution_count": 11,
   "metadata": {},
   "outputs": [],
   "source": [
    "\n",
    "def borrar(indice: int)->None:\n",
    "    '''Borra de la lista el producto que se encuentra en la posición indicada'''\n",
    "    del productos [indice]\n"
   ]
  },
  {
   "cell_type": "code",
   "execution_count": 12,
   "metadata": {},
   "outputs": [],
   "source": [
    "borrar(0)"
   ]
  },
  {
   "cell_type": "code",
   "execution_count": 13,
   "metadata": {},
   "outputs": [
    {
     "data": {
      "text/plain": [
       "[{'nombre': 'Hierbabuena',\n",
       "  'precio': 1.5,\n",
       "  'categoría': 'Alimentación',\n",
       "  'etiquetas': 'coctainls',\n",
       "  'prioridad': 1,\n",
       "  'comprado': False},\n",
       " {'nombre': 'Garganzos',\n",
       "  'precio': 0.68,\n",
       "  'categoría': 'Alimentación',\n",
       "  'etiquetas': ('cocido', 'humus'),\n",
       "  'prioridad': 3,\n",
       "  'comprado': False},\n",
       " {'nombre': 'Hierbabuena',\n",
       "  'precio': 1.5,\n",
       "  'categoría': 'Alimentación',\n",
       "  'etiquetas': 'coctainls',\n",
       "  'prioridad': 1,\n",
       "  'comprado': False}]"
      ]
     },
     "execution_count": 13,
     "metadata": {},
     "output_type": "execute_result"
    }
   ],
   "source": [
    "productos"
   ]
  },
  {
   "cell_type": "code",
   "execution_count": null,
   "metadata": {},
   "outputs": [],
   "source": [
    "def actualizar_precio(indice: int, precio: float):\n",
    "    '''Actualiza el precio del producto con el índice dado'''\n",
    "    raise NotImplementedError"
   ]
  },
  {
   "cell_type": "code",
   "execution_count": null,
   "metadata": {},
   "outputs": [],
   "source": [
    "def cambiar_estado(indice: int):\n",
    "    '''Cambia el estado del producto con el índice dado entre comprado o no'''\n",
    "    raise NotImplementedError\n"
   ]
  },
  {
   "cell_type": "code",
   "execution_count": null,
   "metadata": {},
   "outputs": [],
   "source": [
    "def mostrar_productos(comprados: bool=True, etiquetas: list[str]=[], categorias: list[str]=[]):\n",
    "    '''\n",
    "    Muestra por pantalla todos los productos con su información. Si un producto ya ha sido comprado, se marca con una x al comienzo.\n",
    "    La prioridad se indicará mediante el uso de asteriscos (*), es decir, un artículo con prioridad 5 se representará mediante cinco asteriscos (*****).\n",
    "    Si comprados es False, no se muestran los productos ya comprados.\n",
    "    etiquetas es una tupla o lista con etiquetas o aclaraciones.\n",
    "    Si está vacía, se muestran todos los productos. Si contiene alguna etiqueta, sólo se muestran los productos que tengan todas las etiquetas proporcionadas.\n",
    "     Categorias es una lista con las categorías que se quieren obtener. Si está vacía, se muestran todos los productos. Si contiene alguna categoría, solo se muestran los productos cuya categoría esté contenida en la lista.\n",
    "\n",
    "    Ejemplo en que sólo un producto ha sido comprado:\n",
    "    >>> mostrar_productos()\n",
    "    [x] Alimentación - Arroz integral - *** - 0.72 € - #risotto #arroz a la cubana\n",
    "    [ ] Alimentación - Huevos - * - 1.20 € - #arroz a la cubana #tortilla \n",
    "    [ ] Cosméticos - Desmaquillante - ***** - 4.50 € - #fiesta #teatro\n",
    "\n",
    "    >>> mostrar_productos(etiquetas=('arroz a la cubana'))\n",
    "    [x] Alimentación - Arroz integral - *** - 0.72 € - #risotto #arroz a la cubana\n",
    "    [ ] Alimentación - Huevos - * - 1.20 € - #arroz a la cubana #tortilla\n",
    "    '''\n",
    "    raise NotImplementedError"
   ]
  },
  {
   "cell_type": "code",
   "execution_count": 6,
   "metadata": {},
   "outputs": [],
   "source": [
    "\n",
    "def mostrar_productos(comprados=True, etiquetas=(), categorias=[]):\n",
    "    '''\n",
    "  Muestra por pantalla todos los productos con su información. Si un producto ya ha sido comprado, se marca con una x al comienzo.\n",
    "  La prioridad se indicará mediante el uso de asteriscos (*), es decir, un artículo con prioridad 5 se representará mediante cinco asteriscos (*****).\n",
    "  Si comprados es False, no se muestran los productos ya comprados.\n",
    "  Etiquetas es una tupla o lista con etiquetas o aclaraciones. Si está vacía, se muestran\n",
    "  todos los productos. Si contiene alguna etiqueta, sólo se muestran los productos\n",
    "  que tengan todas las etiquetas proporcionadas.\n",
    "  Categorias es una lista con las categorías que se quieren obtener. Si está vacía, se muestran\n",
    "  todos los productos. Si contiene alguna categoría, solo se muestran los productos cuya categoría\n",
    "  esté contenida en la lista.\n",
    "  Ejemplo en que sólo un producto ha sido comprado:\n",
    "  >>> mostrar_productos()\n",
    "  [x] Alimentación - Arroz integral - *** - 0.72 € - #risotto #arrozalacubana\n",
    "  [ ] Alimentación - Huevos - * - 1.20 € - #arrozalacubana #tortilla \n",
    "  [ ] Cosméticos - Desmaquillante - ***** - 4.50 € - #fiesta #teatro\n",
    "\n",
    "  >>> mostrar_productos(etiquetas=('arrozalacubana'))\n",
    "  [x] Alimentación - Arroz integral - *** - 0.72 € - #risotto #arrozalacubana\n",
    "  [ ] Alimentación - Huevos - * - 1.20 € - #arrozalacubana #tortilla\n",
    "  '''\n",
    "    raise NotImplementedError\n"
   ]
  },
  {
   "cell_type": "code",
   "execution_count": 8,
   "metadata": {},
   "outputs": [
    {
     "ename": "NameError",
     "evalue": "name 'ordenar' is not defined",
     "output_type": "error",
     "traceback": [
      "\u001b[1;31m---------------------------------------------------------------------------\u001b[0m",
      "\u001b[1;31mNameError\u001b[0m                                 Traceback (most recent call last)",
      "Cell \u001b[1;32mIn[8], line 5\u001b[0m\n\u001b[0;32m      1\u001b[0m {\n\u001b[0;32m      2\u001b[0m   \u001b[38;5;124m\"\u001b[39m\u001b[38;5;124mmostrar\u001b[39m\u001b[38;5;124m\"\u001b[39m: mostrar_productos,\n\u001b[0;32m      3\u001b[0m   \u001b[38;5;124m\"\u001b[39m\u001b[38;5;124minsertar\u001b[39m\u001b[38;5;124m\"\u001b[39m: insertar,\n\u001b[0;32m      4\u001b[0m   \u001b[38;5;124m\"\u001b[39m\u001b[38;5;124mborrar\u001b[39m\u001b[38;5;124m\"\u001b[39m: borrar,\n\u001b[1;32m----> 5\u001b[0m   \u001b[38;5;124m\"\u001b[39m\u001b[38;5;124mordenar\u001b[39m\u001b[38;5;124m\"\u001b[39m: \u001b[43mordenar\u001b[49m,\n\u001b[0;32m      6\u001b[0m   \u001b[38;5;124m\"\u001b[39m\u001b[38;5;124mactualizar\u001b[39m\u001b[38;5;124m\"\u001b[39m: actualizar_precio,\n\u001b[0;32m      7\u001b[0m   \u001b[38;5;124m\"\u001b[39m\u001b[38;5;124mcomprado\u001b[39m\u001b[38;5;124m\"\u001b[39m: cambiar_estado,\n\u001b[0;32m      8\u001b[0m }\n",
      "\u001b[1;31mNameError\u001b[0m: name 'ordenar' is not defined"
     ]
    }
   ],
   "source": [
    "{\n",
    "  \"mostrar\": mostrar_productos,\n",
    "  \"insertar\": insertar,\n",
    "  \"borrar\": borrar,\n",
    "  \"ordenar\": ordenar,\n",
    "  \"actualizar\": actualizar_precio,\n",
    "  \"comprado\": cambiar_estado,\n",
    "}"
   ]
  },
  {
   "cell_type": "code",
   "execution_count": null,
   "metadata": {},
   "outputs": [],
   "source": [
    "mostrar_productos.__doc__.strip()"
   ]
  }
 ],
 "metadata": {
  "kernelspec": {
   "display_name": "base",
   "language": "python",
   "name": "python3"
  },
  "language_info": {
   "codemirror_mode": {
    "name": "ipython",
    "version": 3
   },
   "file_extension": ".py",
   "mimetype": "text/x-python",
   "name": "python",
   "nbconvert_exporter": "python",
   "pygments_lexer": "ipython3",
   "version": "3.12.4"
  }
 },
 "nbformat": 4,
 "nbformat_minor": 2
}
